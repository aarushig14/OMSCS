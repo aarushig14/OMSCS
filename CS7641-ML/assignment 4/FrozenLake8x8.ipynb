{
 "cells": [
  {
   "cell_type": "code",
   "execution_count": 14,
   "metadata": {},
   "outputs": [],
   "source": [
    "import numpy as np\n",
    "import gym\n",
    "import gym.spaces as spaces\n",
    "import gym.envs as envs\n",
    "import time\n",
    "import matplotlib.pyplot as plt"
   ]
  },
  {
   "cell_type": "markdown",
   "metadata": {},
   "source": [
    "### Helper functions"
   ]
  },
  {
   "cell_type": "code",
   "execution_count": 15,
   "metadata": {},
   "outputs": [],
   "source": [
    "# Policy Analysis\n",
    "\n",
    "def get_score(env, policy, episodes=1000):\n",
    "    wins = 0\n",
    "    loses = 0\n",
    "    total_reward = 0\n",
    "    steps = []\n",
    "    sequence = []\n",
    "    min_steps = np.Inf\n",
    "    \n",
    "    for i in range(episodes):\n",
    "        done = False\n",
    "        state = env.reset()\n",
    "        cnt = 0\n",
    "        seq_actions = []\n",
    "        while True:\n",
    "            action = policy[state]\n",
    "            seq_actions.append(action)\n",
    "\n",
    "            s_prime, r, done, _ = env.step(action)\n",
    "            \n",
    "            total_reward += r\n",
    "            cnt += 1\n",
    "            state = s_prime\n",
    "            \n",
    "            if done and r == 1.0:\n",
    "                wins += 1\n",
    "                steps.append(cnt)\n",
    "                if cnt < min_steps:\n",
    "                    min_steps = cnt\n",
    "                    sequence = seq_actions\n",
    "                break;\n",
    "            elif done and r == 0.0:\n",
    "                loses += 1\n",
    "                break;\n",
    "    \n",
    "    print(\"Won Percentage = \", (wins/episodes) * 100)\n",
    "    print(\"Lost Percentage = \", (loses/episodes) * 100)\n",
    "    print(\"Average steps taken to win = \", np.mean(steps))\n",
    "    print(\"Average reward in all episodes = \", total_reward/episodes)\n",
    "    \n",
    "    return wins, loses, steps, sequence"
   ]
  },
  {
   "cell_type": "code",
   "execution_count": 66,
   "metadata": {},
   "outputs": [],
   "source": [
    "def map_actions(optimal_policy):\n",
    "    policy = []\n",
    "    for i in optimal_policy:\n",
    "        if i == 0: # LEFT\n",
    "            policy.append('\\u2190')\n",
    "        elif i == 1: # DOWN\n",
    "            policy.append('\\u2193')\n",
    "        elif i == 2: # RIGHT\n",
    "            policy.append('\\u2192')\n",
    "        elif i == 3: # UP\n",
    "            policy.append('\\u2191')\n",
    "    return policy"
   ]
  },
  {
   "cell_type": "markdown",
   "metadata": {},
   "source": [
    "### Value Iteration\n",
    "- Procedure Value_Iteration(S,A,P,R,θ):\n",
    "           Inputs\n",
    "                     S is the set of all states\n",
    "                     A is the set of all actions\n",
    "                     P is state transition function specifying P(s'|s,a)\n",
    "                     R is a reward function R(s,a,s')\n",
    "                     θ a threshold, θ>0\n",
    "           Output\n",
    "                     π[S] approximately optimal policy\n",
    "                    V[S] value function\n",
    "           Local\n",
    "                     real array Vk[S] is a sequence of value functions\n",
    "                     action array π[S]\n",
    "           assign V0[S] arbitrarily\n",
    "           k ←0\n",
    "           repeat\n",
    "                     k ←k+1\n",
    "                     for each state s do\n",
    "                               Vk[s] = maxa ∑s' P(s'|s,a) (R(s,a,s')+ γVk-1[s'])\n",
    "           until ∀s |Vk[s]-Vk-1[s]| < θ\n",
    "           for each state s do\n",
    "                     π[s] = argmaxa ∑s' P(s'|s,a) (R(s,a,s')+ γVk[s'])\n",
    "           return π,Vk"
   ]
  },
  {
   "cell_type": "code",
   "execution_count": 67,
   "metadata": {},
   "outputs": [],
   "source": [
    "def get_action_values(env, s, V, gamma=0.99):\n",
    "    action_values = np.zeros(env.nA)\n",
    "    \n",
    "    for a in range(env.nA):\n",
    "        for prob, s_prime, r, _ in env.P[s][a]:\n",
    "            action_values[a] += prob * ( r + gamma * V[s_prime])\n",
    "            \n",
    "    return action_values"
   ]
  },
  {
   "cell_type": "code",
   "execution_count": 68,
   "metadata": {},
   "outputs": [],
   "source": [
    "'''Value Iteration'''\n",
    "def value_iteration(env, gamma = 0.999, max_iteration = 1000):\n",
    "    # Initialise Utility Function\n",
    "    V = np.zeros(env.nS)\n",
    "\n",
    "    for i in range(max_iteration):\n",
    "        prev_V = np.copy(V)\n",
    "\n",
    "        #loop over all states\n",
    "        for s in range(env.nS):\n",
    "            action_values = get_action_values(env, s, prev_V, gamma)\n",
    "            best_action_value = np.max(action_values)\n",
    "            V[s] = best_action_value\n",
    "\n",
    "        if i % 5 == 0 and np.all(np.isclose(V, prev_V)):\n",
    "            print(\"Value converged at iteration \", i)\n",
    "            break\n",
    "\n",
    "    optimal_policy = np.zeros(env.nS, dtype = 'int8')\n",
    "    for s in range(env.nS):\n",
    "        s_action_value = get_action_values(env, s, V, gamma)\n",
    "        optimal_policy[s] = np.argmax(s_action_value)\n",
    "\n",
    "    return V, optimal_policy"
   ]
  },
  {
   "cell_type": "markdown",
   "metadata": {},
   "source": [
    "### Test Value Iteration "
   ]
  },
  {
   "cell_type": "code",
   "execution_count": 69,
   "metadata": {},
   "outputs": [
    {
     "name": "stdout",
     "output_type": "stream",
     "text": [
      "Number of states:  64\n",
      "Number of actions:  4\n",
      "\n",
      "\u001b[41mS\u001b[0mFFFFFFF\n",
      "FFFFFFFF\n",
      "FFFHFFFF\n",
      "FFFFFHFF\n",
      "FFFHFFFF\n",
      "FHHFFFHF\n",
      "FHFFHFHF\n",
      "FFFHFFFG\n",
      "Value converged at iteration  595\n",
      "Time to converge:  5.7e+02 ms\n",
      "Optimal Value function: \n",
      "[[0.893 0.895 0.899 0.904 0.909 0.914 0.919 0.922]\n",
      " [0.892 0.894 0.897 0.902 0.906 0.912 0.917 0.925]\n",
      " [0.876 0.862 0.819 0.    0.778 0.865 0.909 0.931]\n",
      " [0.864 0.811 0.699 0.42  0.564 0.    0.881 0.939]\n",
      " [0.853 0.711 0.469 0.    0.494 0.568 0.799 0.95 ]\n",
      " [0.846 0.    0.    0.153 0.353 0.413 0.    0.964]\n",
      " [0.841 0.    0.164 0.105 0.    0.319 0.    0.981]\n",
      " [0.838 0.612 0.387 0.    0.272 0.544 0.772 0.   ]]\n",
      "Final Policy: \n",
      "[['↑' '→' '→' '→' '→' '→' '→' '→']\n",
      " ['↑' '↑' '↑' '↑' '↑' '↑' '↑' '→']\n",
      " ['←' '↑' '←' '←' '→' '↑' '→' '→']\n",
      " ['←' '←' '←' '↓' '←' '←' '→' '→']\n",
      " ['←' '↑' '←' '←' '→' '↓' '↑' '→']\n",
      " ['←' '←' '←' '↓' '↑' '←' '←' '→']\n",
      " ['←' '←' '↓' '←' '←' '←' '←' '→']\n",
      " ['←' '↓' '←' '←' '↓' '→' '↓' '←']]\n"
     ]
    },
    {
     "data": {
      "image/png": "[encoded data removed]",
      "text/plain": [
       "<Figure size 576x576 with 1 Axes>"
      ]
     },
     "metadata": {
      "needs_background": "light"
     },
     "output_type": "display_data"
    }
   ],
   "source": [
    "env = gym.make('FrozenLake8x8-v0')\n",
    "print(\"Number of states: \", env.nS)\n",
    "print(\"Number of actions: \", env.nA)\n",
    "\n",
    "env.render()\n",
    "\n",
    "start_time = time.time()\n",
    "optimal_value, optimal_policy = value_iteration(env.env, gamma=0.999, max_iteration=1000 )\n",
    "stop_time = time.time()\n",
    "time_taken = (stop_time - start_time)*1000\n",
    "\n",
    "print (f\"Time to converge: {time_taken : 0.3} ms\")\n",
    "\n",
    "print('Optimal Value function: ')\n",
    "print(np.round(optimal_value, 3).reshape((8, 8)))\n",
    "\n",
    "plt.figure(figsize=(8,8))\n",
    "plt.imshow(optimal_value.reshape((8, 8)), cmap='Oranges_r')\n",
    "\n",
    "print('Final Policy: ')\n",
    "policy = map_actions(optimal_policy)\n",
    "\n",
    "print(np.array(policy).reshape((8,8)))"
   ]
  },
  {
   "cell_type": "code",
   "execution_count": 71,
   "metadata": {},
   "outputs": [
    {
     "name": "stdout",
     "output_type": "stream",
     "text": [
      "Won Percentage =  88.1\n",
      "Lost Percentage =  11.899999999999999\n",
      "Average steps taken to win =  98.07150964812713\n",
      "Average reward in all episodes =  0.881\n",
      "Sequence of min steps taken:  ['↑', '→', '→', '→', '→', '↑', '↑', '↑', '↑', '→', '→', '↑', '→', '↑', '→', '→', '→', '→', '→', '→', '→']\n",
      "Min steps to win:  21\n"
     ]
    }
   ],
   "source": [
    "wins, loses, steps, sequence = get_score(env, optimal_policy, episodes=1000)\n",
    "print(\"Sequence of min steps taken: \", map_actions(sequence))\n",
    "print(\"Min steps to win: \", len(sequence))"
   ]
  },
  {
   "cell_type": "markdown",
   "metadata": {},
   "source": [
    "### Policy Iteration\n",
    "The policy iteration algorithm manipulates the policy directly, rather than finding it indirectly via the optimal value function. It operates as follows:\n",
    "\n",
    "<img src='http://incompleteideas.net/book/first/ebook/pseudotmp1.png'>\n",
    "<img src='http://incompleteideas.net/book/first/ebook/imgtmp35.png'>"
   ]
  },
  {
   "cell_type": "code",
   "execution_count": 72,
   "metadata": {},
   "outputs": [],
   "source": [
    "def get_policy_val(env, policy, V, gamma):\n",
    "    policy_values = np.zeros(env.nS)\n",
    "    for s, a in zip(range(len(policy)), policy):\n",
    "        for prob, s_prime, r, _ in env.P[s][a]:\n",
    "            policy_values[s] += prob * ( r + gamma * V[s_prime])\n",
    "            \n",
    "    return policy_values"
   ]
  },
  {
   "cell_type": "code",
   "execution_count": 73,
   "metadata": {},
   "outputs": [],
   "source": [
    "def policy_iteration(env, gamma = 0.99, max_iteration = 1000):\n",
    "    V = np.zeros(env.nS)\n",
    "    \n",
    "    P = np.random.randint(0, 4, env.nS)\n",
    "    prev_P = np.copy(P)\n",
    "    \n",
    "    for i in range(max_iteration):\n",
    "        \n",
    "        V = get_policy_val(env, P, V, gamma)\n",
    "        \n",
    "        for s in range(env.nS):\n",
    "            s_action_value = get_action_values(env, s, V, gamma)\n",
    "            P[s] = np.argmax(s_action_value)\n",
    "        \n",
    "        if i % 10 == 0:\n",
    "            if np.all(np.equal(P, prev_P)):\n",
    "                print(\"Policy converged at iteration \", i)\n",
    "                break\n",
    "            prev_P = np.copy(P)\n",
    "        \n",
    "    return V, P"
   ]
  },
  {
   "cell_type": "markdown",
   "metadata": {},
   "source": [
    "### Testing Policy Iteration"
   ]
  },
  {
   "cell_type": "code",
   "execution_count": 74,
   "metadata": {},
   "outputs": [
    {
     "name": "stdout",
     "output_type": "stream",
     "text": [
      "Number of states:  64\n",
      "Number of actions:  4\n",
      "\n",
      "\u001b[41mS\u001b[0mFFFFFFF\n",
      "FFFFFFFF\n",
      "FFFHFFFF\n",
      "FFFFFHFF\n",
      "FFFHFFFF\n",
      "FHHFFFHF\n",
      "FHFFHFHF\n",
      "FFFHFFFG\n",
      "Policy converged at iteration  70\n",
      "Time to converge:  79.2 ms\n",
      "Optimal Value function: \n",
      "[[0.409 0.435 0.472 0.513 0.553 0.59  0.613 0.62 ]\n",
      " [0.402 0.422 0.455 0.494 0.537 0.585 0.625 0.638]\n",
      " [0.379 0.382 0.37  0.    0.468 0.559 0.641 0.668]\n",
      " [0.343 0.332 0.295 0.203 0.325 0.    0.646 0.711]\n",
      " [0.291 0.261 0.181 0.    0.317 0.403 0.602 0.768]\n",
      " [0.224 0.    0.    0.09  0.233 0.299 0.    0.837]\n",
      " [0.181 0.    0.034 0.041 0.    0.268 0.    0.916]\n",
      " [0.159 0.104 0.064 0.    0.254 0.509 0.754 0.   ]]\n",
      "Final Policy: \n",
      "[['↑' '→' '→' '→' '→' '→' '→' '→']\n",
      " ['↑' '↑' '↑' '↑' '↑' '→' '→' '↓']\n",
      " ['↑' '↑' '←' '←' '→' '↑' '→' '↓']\n",
      " ['↑' '↑' '↑' '↓' '←' '←' '→' '→']\n",
      " ['↑' '↑' '←' '←' '→' '↓' '↑' '→']\n",
      " ['←' '←' '←' '↓' '↑' '←' '←' '→']\n",
      " ['←' '←' '↓' '←' '←' '←' '←' '→']\n",
      " ['←' '↓' '←' '←' '↓' '→' '↓' '←']]\n"
     ]
    },
    {
     "data": {
      "image/png": "[encoded data removed]",
      "text/plain": [
       "<Figure size 576x576 with 1 Axes>"
      ]
     },
     "metadata": {
      "needs_background": "light"
     },
     "output_type": "display_data"
    }
   ],
   "source": [
    "env2 = gym.make('FrozenLake8x8-v0')\n",
    "print(\"Number of states: \", env2.nS)\n",
    "print(\"Number of actions: \", env2.nA)\n",
    "\n",
    "env2.render()\n",
    "\n",
    "start_time2 = time.time()\n",
    "optimal_value2, optimal_policy2 = policy_iteration(env2.env, gamma=0.999, max_iteration=1000)\n",
    "stop_time2 = time.time()\n",
    "time_taken2 = (stop_time2 - start_time2) * 1000\n",
    "\n",
    "print (f\"Time to converge: {time_taken2 : 0.3} ms\")\n",
    "\n",
    "print('Optimal Value function: ')\n",
    "print(np.round(optimal_value2, 3).reshape((8, 8)))\n",
    "plt.figure(figsize=(8,8))\n",
    "plt.imshow(optimal_value2.reshape((8, 8)), cmap='Oranges_r')\n",
    "\n",
    "print('Final Policy: ')\n",
    "policy2 = map_actions(optimal_policy2)\n",
    "\n",
    "print(np.array(policy2).reshape((8,8)))"
   ]
  },
  {
   "cell_type": "code",
   "execution_count": 76,
   "metadata": {},
   "outputs": [
    {
     "name": "stdout",
     "output_type": "stream",
     "text": [
      "Won Percentage =  85.8\n",
      "Lost Percentage =  14.2\n",
      "Average steps taken to win =  83.35664335664336\n",
      "Average reward in all episodes =  0.858\n",
      "Sequence of min steps taken:  ['↑', '↑', '→', '→', '→', '↑', '↑', '↑', '→', '↑', '→', '→', '↑', '→', '→', '→', '→', '→', '→', '→']\n",
      "Min steps to win:  20\n"
     ]
    }
   ],
   "source": [
    "wins2, loses2, steps2, sequence2 = get_score(env2, optimal_policy2, episodes=1000)\n",
    "print(\"Sequence of min steps taken: \", map_actions(sequence2))\n",
    "print(\"Min steps to win: \", len(sequence2))"
   ]
  },
  {
   "cell_type": "code",
   "execution_count": 77,
   "metadata": {},
   "outputs": [
    {
     "data": {
      "text/plain": [
       "array([[ 0,  0,  0,  0,  0,  0,  0,  0],\n",
       "       [ 0,  0,  0,  0,  0,  1,  1,  1],\n",
       "       [-3,  0,  0,  0,  0,  0,  0,  1],\n",
       "       [-3, -3, -3,  0,  0,  0,  0,  0],\n",
       "       [-3,  0,  0,  0,  0,  0,  0,  0],\n",
       "       [ 0,  0,  0,  0,  0,  0,  0,  0],\n",
       "       [ 0,  0,  0,  0,  0,  0,  0,  0],\n",
       "       [ 0,  0,  0,  0,  0,  0,  0,  0]])"
      ]
     },
     "execution_count": 77,
     "metadata": {},
     "output_type": "execute_result"
    }
   ],
   "source": [
    "(optimal_policy - optimal_policy2).reshape((8,8))"
   ]
  },
  {
   "cell_type": "markdown",
   "metadata": {},
   "source": [
    "## Q- Learning"
   ]
  },
  {
   "cell_type": "code",
   "execution_count": 78,
   "metadata": {},
   "outputs": [],
   "source": [
    "import random\n",
    "env3 = gym.make('FrozenLake8x8-v0')\n",
    "action_size = env3.action_space.n\n",
    "state_size = env3.observation_space.n\n",
    "\n",
    "qtable = np.zeros((state_size, action_size))\n",
    "T = np.zeros((state_size, action_size, state_size))\n",
    "T_Count = T.copy()\n",
    "R = qtable.copy()\n",
    "\n",
    "total_episodes = 100000        # Total episodes\n",
    "learning_rate = 0.8           # Learning rate\n",
    "max_steps = 99                # Max steps per episode\n",
    "gamma = 0.95                  # Discounting rate\n",
    "\n",
    "# Exploration parameters\n",
    "epsilon = 1.0                 # Exploration rate\n",
    "max_epsilon = 1.0             # Exploration probability at start\n",
    "min_epsilon = 0.01            # Minimum exploration probability \n",
    "decay_rate = 0.0001"
   ]
  },
  {
   "cell_type": "code",
   "execution_count": 79,
   "metadata": {},
   "outputs": [
    {
     "name": "stdout",
     "output_type": "stream",
     "text": [
      "Score over time: 0.19433\n",
      "Time taken =  133.72452592849731  s.\n",
      "[[7.91717559e-03 2.34324691e-02 8.03674444e-03 7.86281715e-03]\n",
      " [9.06851192e-03 8.81200675e-03 1.62411374e-02 8.60271843e-03]\n",
      " [1.08637520e-02 1.31208155e-02 2.68929311e-02 1.06615104e-02]\n",
      " [3.41960677e-02 2.54091721e-02 1.68848051e-02 1.79127239e-02]\n",
      " [2.44756361e-02 2.73740152e-02 3.02835544e-02 4.06613199e-02]\n",
      " [2.74598249e-02 2.90626773e-02 4.86748408e-02 6.09468835e-02]\n",
      " [3.73733135e-02 6.42821678e-02 7.37696069e-02 3.85897182e-02]\n",
      " [3.83078563e-02 9.94297087e-02 5.20222425e-02 2.61381759e-02]\n",
      " [8.06037314e-03 6.98438959e-03 7.89687648e-03 1.69285323e-02]\n",
      " [4.72356877e-03 7.27395264e-03 8.36451380e-03 1.42152846e-02]\n",
      " [1.29423827e-02 9.83452446e-03 1.16337931e-02 2.22245885e-02]\n",
      " [7.57941108e-03 6.51311955e-04 5.89301053e-03 3.86352416e-02]\n",
      " [1.06298858e-02 6.88333509e-03 5.72484916e-02 2.65650875e-02]\n",
      " [1.56645192e-02 1.42817657e-02 2.82321778e-02 1.30092696e-01]\n",
      " [3.79073119e-02 5.99373863e-02 9.87537242e-02 2.88067508e-02]\n",
      " [4.62123846e-02 7.88451605e-02 1.31879008e-01 4.26682046e-02]\n",
      " [4.59023472e-03 5.50359113e-03 6.72420403e-03 5.58923157e-03]\n",
      " [3.11546834e-03 1.82781713e-03 6.83474850e-03 3.04848815e-03]\n",
      " [2.39822446e-03 4.09477982e-04 1.27234084e-03 1.47843689e-04]\n",
      " [0.00000000e+00 0.00000000e+00 0.00000000e+00 0.00000000e+00]\n",
      " [3.02076778e-03 3.02743875e-03 3.18907090e-02 2.87359694e-03]\n",
      " [1.05313549e-03 3.21087634e-03 1.76621892e-03 7.19323921e-02]\n",
      " [2.17458949e-02 4.81873553e-02 2.40621018e-01 4.25755282e-02]\n",
      " [1.49609350e-01 6.67848820e-02 6.87202370e-02 6.90940744e-02]\n",
      " [1.84662442e-03 1.82958997e-03 3.87484964e-03 5.05021236e-03]\n",
      " [2.03572096e-03 4.25491058e-04 1.86267733e-03 4.20871865e-03]\n",
      " [2.68986347e-04 8.93806773e-05 3.59770797e-04 1.94263369e-04]\n",
      " [2.17714001e-09 6.16827133e-03 6.65706144e-10 2.62620605e-06]\n",
      " [5.35250877e-02 2.79961893e-05 1.05839876e-04 3.51461354e-04]\n",
      " [0.00000000e+00 0.00000000e+00 0.00000000e+00 0.00000000e+00]\n",
      " [1.16222507e-02 1.75076503e-02 9.93172478e-02 1.28498508e-02]\n",
      " [7.41183251e-02 2.20636914e-01 9.83079969e-02 7.95578957e-02]\n",
      " [1.18763865e-03 2.09304248e-03 1.10060869e-03 2.70162964e-03]\n",
      " [4.22893608e-04 9.52340639e-05 2.85382439e-04 5.79306804e-04]\n",
      " [1.28938964e-05 2.73743192e-08 8.12979031e-12 2.23625141e-08]\n",
      " [0.00000000e+00 0.00000000e+00 0.00000000e+00 0.00000000e+00]\n",
      " [1.23026425e-03 5.57605527e-04 9.90971939e-03 5.19063096e-04]\n",
      " [2.26146404e-04 3.83970562e-02 5.02050725e-04 3.43099533e-04]\n",
      " [9.31751157e-06 3.45846842e-03 6.43364225e-05 4.20634357e-01]\n",
      " [5.98245446e-02 8.42747454e-02 4.83086755e-01 7.27182063e-02]\n",
      " [4.93174544e-03 1.82294527e-04 2.22294992e-04 2.48345327e-04]\n",
      " [0.00000000e+00 0.00000000e+00 0.00000000e+00 0.00000000e+00]\n",
      " [0.00000000e+00 0.00000000e+00 0.00000000e+00 0.00000000e+00]\n",
      " [1.86708084e-09 3.27957737e-08 1.48929799e-07 6.83105771e-10]\n",
      " [4.91061425e-05 4.08027361e-03 1.22523710e-06 1.29533612e-04]\n",
      " [2.50612012e-01 2.49648152e-04 4.90224728e-04 3.89392887e-05]\n",
      " [0.00000000e+00 0.00000000e+00 0.00000000e+00 0.00000000e+00]\n",
      " [3.12637146e-02 1.01646850e-01 6.81432864e-01 9.90179546e-02]\n",
      " [5.71016697e-04 2.18002994e-05 1.08296102e-04 1.33156831e-04]\n",
      " [0.00000000e+00 0.00000000e+00 0.00000000e+00 0.00000000e+00]\n",
      " [6.43891950e-08 1.77432784e-07 1.95586003e-07 7.18066859e-08]\n",
      " [2.99839784e-08 4.21807428e-09 3.39090854e-09 7.73735101e-07]\n",
      " [0.00000000e+00 0.00000000e+00 0.00000000e+00 0.00000000e+00]\n",
      " [2.99860434e-05 1.23721828e-08 5.76030752e-01 1.91025792e-07]\n",
      " [0.00000000e+00 0.00000000e+00 0.00000000e+00 0.00000000e+00]\n",
      " [1.23397003e-01 3.83303911e-02 9.55065542e-01 5.70282939e-03]\n",
      " [5.69754810e-04 2.05266445e-04 2.00212675e-04 2.02313899e-04]\n",
      " [2.65498580e-06 8.06387967e-04 2.18145046e-05 9.87396376e-06]\n",
      " [4.82820230e-04 1.41486822e-06 2.59723584e-06 1.16195984e-05]\n",
      " [0.00000000e+00 0.00000000e+00 0.00000000e+00 0.00000000e+00]\n",
      " [0.00000000e+00 9.66960994e-04 8.58975703e-02 0.00000000e+00]\n",
      " [6.16663137e-02 5.84321520e-02 8.58434444e-01 1.35897783e-02]\n",
      " [1.41565383e-01 9.82937840e-01 2.97422808e-02 1.84896041e-01]\n",
      " [0.00000000e+00 0.00000000e+00 0.00000000e+00 0.00000000e+00]]\n"
     ]
    }
   ],
   "source": [
    "# List of rewards\n",
    "rewards = []\n",
    "\n",
    "start_time = time.time()\n",
    "\n",
    "# 2 For life or until learning is stopped\n",
    "for episode in range(total_episodes):\n",
    "    # Reset the environment\n",
    "    state = env3.reset()\n",
    "    step = 0\n",
    "    done = False\n",
    "    total_rewards = 0\n",
    "    \n",
    "    for step in range(max_steps):\n",
    "        # 3. Choose an action a in the current world state (s)\n",
    "        ## First we randomize a number\n",
    "        exp_exp_tradeoff = random.uniform(0, 1)\n",
    "        \n",
    "        ## If this number > greater than epsilon --> exploitation (taking the biggest Q value for this state)\n",
    "        if exp_exp_tradeoff > epsilon:\n",
    "            action = np.argmax(qtable[state,:])\n",
    "\n",
    "        # Else doing a random choice --> exploration\n",
    "        else:\n",
    "            action = env3.action_space.sample()\n",
    "\n",
    "        # Take the action (a) and observe the outcome state(s') and reward (r)\n",
    "        new_state, reward, done, info = env3.step(action)\n",
    "\n",
    "        # Update Q(s,a):= Q(s,a) + lr [R(s,a) + gamma * max Q(s',a') - Q(s,a)]\n",
    "        # qtable[new_state,:] : all the actions we can take from new state\n",
    "        qtable[state, action] = qtable[state, action] + learning_rate * (reward + gamma * np.max(qtable[new_state, :]) - qtable[state, action])\n",
    "        \n",
    "        total_rewards += reward\n",
    "        \n",
    "        # Our new state is state\n",
    "        state = new_state\n",
    "        \n",
    "        # If done (if we're dead) : finish episode\n",
    "        if done == True: \n",
    "            break\n",
    "        \n",
    "    # Reduce epsilon (because we need less and less exploration)\n",
    "    epsilon = min_epsilon + (max_epsilon - min_epsilon)*np.exp(-decay_rate*episode) \n",
    "    rewards.append(total_rewards)\n",
    "\n",
    "stop_time = time.time()\n",
    "\n",
    "print (\"Score over time: \" +  str(sum(rewards)/total_episodes))\n",
    "print(\"Time taken = \", (stop_time - start_time), \" s.\")\n",
    "print(qtable)"
   ]
  },
  {
   "cell_type": "code",
   "execution_count": 80,
   "metadata": {},
   "outputs": [
    {
     "name": "stdout",
     "output_type": "stream",
     "text": [
      "Optimal Value function: \n",
      "[[0.023 0.016 0.027 0.034 0.041 0.061 0.074 0.099]\n",
      " [0.017 0.014 0.022 0.039 0.057 0.13  0.099 0.132]\n",
      " [0.007 0.007 0.002 0.    0.032 0.072 0.241 0.15 ]\n",
      " [0.005 0.004 0.    0.006 0.054 0.    0.099 0.221]\n",
      " [0.003 0.001 0.    0.    0.01  0.038 0.421 0.483]\n",
      " [0.005 0.    0.    0.    0.004 0.251 0.    0.681]\n",
      " [0.001 0.    0.    0.    0.    0.576 0.    0.955]\n",
      " [0.001 0.001 0.    0.    0.086 0.858 0.983 0.   ]]\n",
      "Final Policy: \n",
      "[['↓' '→' '→' '←' '↑' '↑' '→' '↓']\n",
      " ['↑' '↑' '↑' '↑' '→' '↑' '→' '→']\n",
      " ['→' '→' '←' '←' '→' '↑' '→' '←']\n",
      " ['↑' '↑' '→' '↓' '←' '←' '→' '↓']\n",
      " ['↑' '↑' '←' '←' '→' '↓' '↑' '→']\n",
      " ['←' '←' '←' '→' '↓' '←' '←' '→']\n",
      " ['←' '←' '→' '↑' '←' '→' '←' '→']\n",
      " ['←' '↓' '←' '←' '→' '→' '↓' '←']]\n"
     ]
    },
    {
     "data": {
      "image/png": "[encoded data removed]",
      "text/plain": [
       "<Figure size 720x720 with 1 Axes>"
      ]
     },
     "metadata": {
      "needs_background": "light"
     },
     "output_type": "display_data"
    }
   ],
   "source": [
    "optimal_policy3 = np.argmax(qtable, axis=1)\n",
    "optimal_value3 = np.amax(qtable, axis=1)\n",
    "\n",
    "print('Optimal Value function: ')\n",
    "print(np.round(optimal_value3, 3).reshape((8, 8)))\n",
    "plt.figure(figsize=(10,10))\n",
    "plt.imshow(optimal_value3.reshape((8, 8)), cmap='Oranges_r')\n",
    "\n",
    "print('Final Policy: ')\n",
    "policy3 = map_actions(optimal_policy3)\n",
    "\n",
    "print(np.array(policy3).reshape((8,8)))"
   ]
  },
  {
   "cell_type": "code",
   "execution_count": 81,
   "metadata": {},
   "outputs": [
    {
     "name": "stdout",
     "output_type": "stream",
     "text": [
      "Won Percentage =  59.099999999999994\n",
      "Lost Percentage =  40.9\n",
      "Average steps taken to win =  98.6429780033841\n",
      "Average reward in all episodes =  0.591\n",
      "Sequence of min steps taken:  ['↓', '↓', '→', '→', '→', '→', '→', '↑', '↑', '→', '→', '←', '→', '↓', '↑', '→', '→', '→', '→']\n",
      "Min steps to win:  19\n"
     ]
    }
   ],
   "source": [
    "wins3, loses3, steps3, sequence3 = get_score(env3, optimal_policy3, episodes=1000)\n",
    "print(\"Sequence of min steps taken: \", map_actions(sequence3))\n",
    "print(\"Min steps to win: \", len(sequence3))"
   ]
  },
  {
   "cell_type": "code",
   "execution_count": 75,
   "metadata": {},
   "outputs": [],
   "source": [
    "import pandas as pd\n",
    "pd.DataFrame(np.round(optimal_value2, 3).reshape((8,8))).to_csv('a.csv')"
   ]
  },
  {
   "cell_type": "code",
   "execution_count": null,
   "metadata": {},
   "outputs": [],
   "source": []
  }
 ],
 "metadata": {
  "kernelspec": {
   "display_name": "Python 3",
   "language": "python",
   "name": "python3"
  },
  "language_info": {
   "codemirror_mode": {
    "name": "ipython",
    "version": 3
   },
   "file_extension": ".py",
   "mimetype": "text/x-python",
   "name": "python",
   "nbconvert_exporter": "python",
   "pygments_lexer": "ipython3",
   "version": "3.7.7"
  }
 },
 "nbformat": 4,
 "nbformat_minor": 4
}
