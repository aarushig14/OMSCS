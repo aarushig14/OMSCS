{
 "cells": [
  {
   "cell_type": "code",
   "execution_count": 2,
   "metadata": {},
   "outputs": [],
   "source": [
    "import numpy as np\n",
    "import gym\n",
    "import gym.spaces as spaces\n",
    "import gym.envs as envs\n",
    "import time\n",
    "import matplotlib.pyplot as plt"
   ]
  },
  {
   "cell_type": "markdown",
   "metadata": {},
   "source": [
    "### Helper functions"
   ]
  },
  {
   "cell_type": "code",
   "execution_count": 3,
   "metadata": {},
   "outputs": [],
   "source": [
    "# Policy Analysis\n",
    "\n",
    "def get_score(env, policy, episodes=1000):\n",
    "    wins = 0\n",
    "    loses = 0\n",
    "    total_reward = 0\n",
    "    steps = []\n",
    "    sequence = []\n",
    "    min_steps = np.Inf\n",
    "    \n",
    "    for i in range(episodes):\n",
    "        done = False\n",
    "        state = env.reset()\n",
    "        cnt = 0\n",
    "        seq_actions = []\n",
    "        while True:\n",
    "            action = policy[state]\n",
    "            seq_actions.append(action)\n",
    "\n",
    "            s_prime, r, done, _ = env.step(action)\n",
    "            \n",
    "            total_reward += r\n",
    "            cnt += 1\n",
    "            state = s_prime\n",
    "            \n",
    "            if done and r == 1.0:\n",
    "                wins += 1\n",
    "                steps.append(cnt)\n",
    "                if cnt < min_steps:\n",
    "                    min_steps = cnt\n",
    "                    sequence = seq_actions\n",
    "                break;\n",
    "            elif done and r == 0.0:\n",
    "                loses += 1\n",
    "                break;\n",
    "    \n",
    "    print(\"Won Percentage = \", (wins/episodes) * 100)\n",
    "    print(\"Lost Percentage = \", (loses/episodes) * 100)\n",
    "    print(\"Average steps taken to win = \", np.mean(steps))\n",
    "    print(\"Average reward in all episodes = \", total_reward/episodes)\n",
    "    \n",
    "    return wins, loses, steps, sequence"
   ]
  },
  {
   "cell_type": "code",
   "execution_count": 28,
   "metadata": {},
   "outputs": [],
   "source": [
    "def map_actions(optimal_policy):\n",
    "    policy = []\n",
    "    for i in optimal_policy:\n",
    "        if i == 0: # LEFT\n",
    "            policy.append('\\u2190')\n",
    "        elif i == 1: # DOWN\n",
    "            policy.append('\\u2193')\n",
    "        elif i == 2: # RIGHT\n",
    "            policy.append('\\u2192')\n",
    "        elif i == 3: # UP\n",
    "            policy.append('\\u2191')\n",
    "    return policy"
   ]
  },
  {
   "cell_type": "markdown",
   "metadata": {},
   "source": [
    "### Value Iteration\n",
    "- Procedure Value_Iteration(S,A,P,R,θ):\n",
    "           Inputs\n",
    "                     S is the set of all states\n",
    "                     A is the set of all actions\n",
    "                     P is state transition function specifying P(s'|s,a)\n",
    "                     R is a reward function R(s,a,s')\n",
    "                     θ a threshold, θ>0\n",
    "           Output\n",
    "                     π[S] approximately optimal policy\n",
    "                    V[S] value function\n",
    "           Local\n",
    "                     real array Vk[S] is a sequence of value functions\n",
    "                     action array π[S]\n",
    "           assign V0[S] arbitrarily\n",
    "           k ←0\n",
    "           repeat\n",
    "                     k ←k+1\n",
    "                     for each state s do\n",
    "                               Vk[s] = maxa ∑s' P(s'|s,a) (R(s,a,s')+ γVk-1[s'])\n",
    "           until ∀s |Vk[s]-Vk-1[s]| < θ\n",
    "           for each state s do\n",
    "                     π[s] = argmaxa ∑s' P(s'|s,a) (R(s,a,s')+ γVk[s'])\n",
    "           return π,Vk"
   ]
  },
  {
   "cell_type": "code",
   "execution_count": 5,
   "metadata": {},
   "outputs": [],
   "source": [
    "def get_action_values(env, s, V, gamma=0.99):\n",
    "    action_values = np.zeros(env.nA)\n",
    "    \n",
    "    for a in range(env.nA):\n",
    "        for prob, s_prime, r, _ in env.P[s][a]:\n",
    "            action_values[a] += prob * ( r + gamma * V[s_prime])\n",
    "            \n",
    "    return action_values"
   ]
  },
  {
   "cell_type": "code",
   "execution_count": 6,
   "metadata": {},
   "outputs": [],
   "source": [
    "'''Value Iteration'''\n",
    "def value_iteration(env, gamma = 0.999, max_iteration = 1000):\n",
    "    # Initialise Utility Function\n",
    "    V = np.zeros(env.nS)\n",
    "\n",
    "    for i in range(max_iteration):\n",
    "        prev_V = np.copy(V)\n",
    "\n",
    "        #loop over all states\n",
    "        for s in range(env.nS):\n",
    "            action_values = get_action_values(env, s, prev_V, gamma)\n",
    "            best_action_value = np.max(action_values)\n",
    "            V[s] = best_action_value\n",
    "\n",
    "        if i % 5 == 0 and np.all(np.isclose(V, prev_V)):\n",
    "            print(\"Value converged at iteration \", i)\n",
    "            break\n",
    "\n",
    "    optimal_policy = np.zeros(env.nS, dtype = 'int8')\n",
    "    for s in range(env.nS):\n",
    "        s_action_value = get_action_values(env, s, V, gamma)\n",
    "        optimal_policy[s] = np.argmax(s_action_value)\n",
    "\n",
    "    return V, optimal_policy"
   ]
  },
  {
   "cell_type": "markdown",
   "metadata": {},
   "source": [
    "### Test Value Iteration "
   ]
  },
  {
   "cell_type": "code",
   "execution_count": 29,
   "metadata": {
    "scrolled": false
   },
   "outputs": [
    {
     "name": "stdout",
     "output_type": "stream",
     "text": [
      "Number of states:  16\n",
      "Number of actions:  4\n",
      "\n",
      "\u001b[41mS\u001b[0mFFF\n",
      "FHFH\n",
      "FFFH\n",
      "HFFG\n",
      "Value converged at iteration  335\n",
      "Time to converge:  93.2 ms\n",
      "Optimal Value function: \n",
      "[[0.785 0.778 0.774 0.771]\n",
      " [0.788 0.    0.506 0.   ]\n",
      " [0.792 0.8   0.745 0.   ]\n",
      " [0.    0.864 0.931 0.   ]]\n",
      "Final Policy: \n",
      "[['←' '↑' '↑' '↑']\n",
      " ['←' '←' '←' '←']\n",
      " ['↑' '↓' '←' '←']\n",
      " ['←' '→' '↓' '←']]\n"
     ]
    },
    {
     "data": {
      "image/png": "[encoded data removed]",
      "text/plain": [
       "<Figure size 288x288 with 1 Axes>"
      ]
     },
     "metadata": {
      "needs_background": "light"
     },
     "output_type": "display_data"
    }
   ],
   "source": [
    "env = gym.make('FrozenLake-v0')\n",
    "print(\"Number of states: \", env.nS)\n",
    "print(\"Number of actions: \", env.nA)\n",
    "\n",
    "env.render()\n",
    "\n",
    "start_time = time.time()\n",
    "optimal_value, optimal_policy = value_iteration(env.env, gamma=0.999, max_iteration=1000 )\n",
    "stop_time = time.time()\n",
    "time_taken = (stop_time - start_time)*1000\n",
    "\n",
    "print (f\"Time to converge: {time_taken : 0.3} ms\")\n",
    "\n",
    "print('Optimal Value function: ')\n",
    "print(np.round(optimal_value, 3).reshape((4, 4)))\n",
    "\n",
    "plt.figure(figsize=(4,4))\n",
    "plt.imshow(optimal_value.reshape((4, 4)), cmap='Oranges_r')\n",
    "\n",
    "print('Final Policy: ')\n",
    "policy = map_actions(optimal_policy)\n",
    "\n",
    "print(np.array(policy).reshape((4,4)))"
   ]
  },
  {
   "cell_type": "code",
   "execution_count": 18,
   "metadata": {},
   "outputs": [
    {
     "name": "stdout",
     "output_type": "stream",
     "text": [
      "Won Percentage =  74.9\n",
      "Lost Percentage =  25.1\n",
      "Average steps taken to win =  38.308411214953274\n",
      "Average reward in all episodes =  0.749\n",
      "Sequence of min steps taken:  ['←', '↑', '↑', '↑', '←', '←', '←', '←', '↑', '↓', '←', '←', '←', '→', '↓', '←']\n",
      "Min steps to win:  6\n"
     ]
    }
   ],
   "source": [
    "wins, loses, steps, sequence = get_score(env, optimal_policy, episodes=1000)\n",
    "print(\"Sequence of min steps taken: \", map_actions(sequence))\n",
    "print(\"Min steps to win: \", len(sequence))"
   ]
  },
  {
   "cell_type": "markdown",
   "metadata": {},
   "source": [
    "### Policy Iteration\n",
    "The policy iteration algorithm manipulates the policy directly, rather than finding it indirectly via the optimal value function. It operates as follows:\n",
    "\n",
    "<img src='http://incompleteideas.net/book/first/ebook/pseudotmp1.png'>\n",
    "<img src='http://incompleteideas.net/book/first/ebook/imgtmp35.png'>"
   ]
  },
  {
   "cell_type": "code",
   "execution_count": 9,
   "metadata": {},
   "outputs": [],
   "source": [
    "def get_policy_val(env, policy, V, gamma):\n",
    "    policy_values = np.zeros(env.nS)\n",
    "    for s, a in zip(range(len(policy)), policy):\n",
    "        for prob, s_prime, r, _ in env.P[s][a]:\n",
    "            policy_values[s] += prob * ( r + gamma * V[s_prime])\n",
    "            \n",
    "    return policy_values"
   ]
  },
  {
   "cell_type": "code",
   "execution_count": 10,
   "metadata": {},
   "outputs": [],
   "source": [
    "def policy_iteration(env, gamma = 0.99, max_iteration = 1000):\n",
    "    V = np.zeros(env.nS)\n",
    "    \n",
    "    P = np.random.randint(0, 4, env.nS)\n",
    "    prev_P = np.copy(P)\n",
    "    \n",
    "    for i in range(max_iteration):\n",
    "        \n",
    "        V = get_policy_val(env, P, V, gamma)\n",
    "        \n",
    "        for s in range(env.nS):\n",
    "            s_action_value = get_action_values(env, s, V, gamma)\n",
    "            P[s] = np.argmax(s_action_value)\n",
    "        \n",
    "        if i % 10 == 0:\n",
    "            if np.all(np.equal(P, prev_P)):\n",
    "                print(\"Policy converged at iteration \", i)\n",
    "                break\n",
    "            prev_P = np.copy(P)\n",
    "        \n",
    "    return V, P"
   ]
  },
  {
   "cell_type": "markdown",
   "metadata": {},
   "source": [
    "### Testing Policy Iteration"
   ]
  },
  {
   "cell_type": "markdown",
   "metadata": {},
   "source": [
    "#### env2 = gym.make('FrozenLake-v0')\n",
    "print(\"Number of states: \", env2.nS)\n",
    "print(\"Number of actions: \", env2.nA)\n",
    "\n",
    "env2.render()\n",
    "\n",
    "start_time2 = time.time()\n",
    "optimal_value2, optimal_policy2 = policy_iteration(env2.env, gamma=0.999, max_iteration=1000)\n",
    "stop_time2 = time.time()\n",
    "time_taken2 = (stop_time2 - start_time2) * 1000\n",
    "\n",
    "print (f\"Time to converge: {time_taken2 : 0.3} ms\")\n",
    "\n",
    "print('Optimal Value function: ')\n",
    "print(np.round(optimal_value2, 3).reshape((4, 4)))\n",
    "plt.figure(figsize=(4,4))\n",
    "plt.imshow(optimal_value2.reshape((4, 4)), cmap='Oranges_r')\n",
    "\n",
    "print('Final Policy: ')\n",
    "policy2 = map_actions(optimal_policy2)\n",
    "\n",
    "print(np.array(policy2).reshape((4,4)))"
   ]
  },
  {
   "cell_type": "code",
   "execution_count": 20,
   "metadata": {},
   "outputs": [
    {
     "name": "stdout",
     "output_type": "stream",
     "text": [
      "Won Percentage =  73.8\n",
      "Lost Percentage =  26.200000000000003\n",
      "Average steps taken to win =  37.56910569105691\n",
      "Average reward in all episodes =  0.738\n",
      "Sequence of min steps taken:  ['←', '↑', '↑', '↑', '←', '←', '←', '←', '↑', '↓', '←', '←', '←', '→', '↓', '←']\n",
      "Min steps to win:  6\n"
     ]
    }
   ],
   "source": [
    "wins2, loses2, steps2, sequence2 = get_score(env2, optimal_policy2, episodes=1000)\n",
    "print(\"Sequence of min steps taken: \", map_actions(sequence2))\n",
    "print(\"Min steps to win: \", len(sequence2))"
   ]
  },
  {
   "cell_type": "code",
   "execution_count": 27,
   "metadata": {},
   "outputs": [
    {
     "name": "stdout",
     "output_type": "stream",
     "text": [
      "0.5333798903627254\n",
      "0.3101127456459144\n",
      "0.3125\n"
     ]
    },
    {
     "data": {
      "text/plain": [
       "array([[ True,  True, False,  True],\n",
       "       [ True,  True,  True,  True],\n",
       "       [ True,  True,  True,  True],\n",
       "       [ True,  True,  True,  True]])"
      ]
     },
     "execution_count": 27,
     "metadata": {},
     "output_type": "execute_result"
    }
   ],
   "source": [
    "print(optimal_value.mean())\n",
    "print(optimal_value2.mean())\n",
    "print(len(np.where(optimal_value<=0.3)[0])/16)\n",
    "(optimal_policy == optimal_policy2).reshape((4,4))"
   ]
  },
  {
   "cell_type": "markdown",
   "metadata": {},
   "source": [
    "## Q- Learning"
   ]
  },
  {
   "cell_type": "code",
   "execution_count": 60,
   "metadata": {},
   "outputs": [],
   "source": [
    "import random\n",
    "import random as rand\n",
    "env3 = gym.make('FrozenLake-v0')\n",
    "action_size = env3.action_space.n\n",
    "state_size = env3.observation_space.n\n",
    "\n",
    "qtable = np.zeros((state_size, action_size))\n",
    "T = np.zeros((state_size, action_size, state_size))\n",
    "T_Count = T.copy()\n",
    "R = qtable.copy()\n",
    "\n",
    "total_episodes = 100000        # Total episodes\n",
    "learning_rate = 0.8           # Learning rate\n",
    "max_steps = 99                # Max steps per episode\n",
    "gamma = 0.95                  # Discounting rate\n",
    "\n",
    "# Exploration parameters\n",
    "epsilon = 1.0                 # Exploration rate\n",
    "max_epsilon = 1.0             # Exploration probability at start\n",
    "min_epsilon = 0.01            # Minimum exploration probability \n",
    "decay_rate = 0.005"
   ]
  },
  {
   "cell_type": "code",
   "execution_count": 69,
   "metadata": {},
   "outputs": [
    {
     "name": "stdout",
     "output_type": "stream",
     "text": [
      "Score over time: 0.34105\n",
      "Time taken:  56.08213996887207  s.\n",
      "[[4.58869585e-02 4.63198447e-01 4.65946075e-02 5.87087869e-02]\n",
      " [1.52177911e-04 1.53134331e-02 4.65081914e-04 2.39507947e-01]\n",
      " [1.46571877e-02 1.77730994e-03 4.57840318e-01 2.13433403e-02]\n",
      " [4.51596204e-03 1.79628926e-03 1.91378534e-02 9.10966733e-02]\n",
      " [1.94231408e-01 2.62701186e-04 1.27238612e-02 3.49117862e-03]\n",
      " [0.00000000e+00 0.00000000e+00 0.00000000e+00 0.00000000e+00]\n",
      " [1.70822632e-04 5.42621156e-05 9.70650024e-02 6.15396670e-06]\n",
      " [0.00000000e+00 0.00000000e+00 0.00000000e+00 0.00000000e+00]\n",
      " [3.80602096e-02 3.30168576e-03 2.81900053e-02 3.84971772e-01]\n",
      " [4.93386983e-04 7.98984608e-01 9.50425459e-03 6.10996064e-03]\n",
      " [6.67908466e-01 2.98995042e-02 1.14842317e-03 2.69270070e-02]\n",
      " [0.00000000e+00 0.00000000e+00 0.00000000e+00 0.00000000e+00]\n",
      " [0.00000000e+00 0.00000000e+00 0.00000000e+00 0.00000000e+00]\n",
      " [1.94873539e-01 4.28104822e-02 9.34198851e-01 1.02886501e-01]\n",
      " [2.07744937e-01 9.76838564e-01 2.75411061e-01 2.17651553e-01]\n",
      " [0.00000000e+00 0.00000000e+00 0.00000000e+00 0.00000000e+00]]\n"
     ]
    }
   ],
   "source": [
    "# List of rewards\n",
    "rewards = []\n",
    "start_time = time.time()\n",
    "\n",
    "# 2 For life or until learning is stopped\n",
    "for episode in range(total_episodes):\n",
    "    # Reset the environment\n",
    "    state = env3.reset()\n",
    "    step = 0\n",
    "    done = False\n",
    "    total_rewards = 0\n",
    "    \n",
    "    for step in range(max_steps):\n",
    "        # 3. Choose an action a in the current world state (s)\n",
    "        ## First we randomize a number\n",
    "        exp_exp_tradeoff = random.uniform(0, 1)\n",
    "        \n",
    "        ## If this number > greater than epsilon --> exploitation (taking the biggest Q value for this state)\n",
    "        if exp_exp_tradeoff > epsilon:\n",
    "            action = np.argmax(qtable[state,:])\n",
    "\n",
    "        # Else doing a random choice --> exploration\n",
    "        else:\n",
    "            action = env3.action_space.sample()\n",
    "\n",
    "        # Take the action (a) and observe the outcome state(s') and reward (r)\n",
    "        new_state, reward, done, info = env3.step(action)\n",
    "\n",
    "        # Update Q(s,a):= Q(s,a) + lr [R(s,a) + gamma * max Q(s',a') - Q(s,a)]\n",
    "        # qtable[new_state,:] : all the actions we can take from new state\n",
    "        qtable[state, action] = qtable[state, action] + learning_rate * (reward + gamma * np.max(qtable[new_state, :]) - qtable[state, action])\n",
    "                \n",
    "        total_rewards += reward\n",
    "        \n",
    "        # Our new state is state\n",
    "        state = new_state\n",
    "        \n",
    "        # If done (if we're dead) : finish episode\n",
    "        if done == True: \n",
    "            break\n",
    "        \n",
    "    # Reduce epsilon (because we need less and less exploration)\n",
    "    epsilon = min_epsilon + (max_epsilon - min_epsilon)*np.exp(-decay_rate*episode) \n",
    "    rewards.append(total_rewards)\n",
    "\n",
    "stop_time = time.time()\n",
    "print (\"Score over time: \" +  str(sum(rewards)/total_episodes))\n",
    "print (\"Time taken: \", (stop_time - start_time), \" s.\")\n",
    "print(qtable)"
   ]
  },
  {
   "cell_type": "code",
   "execution_count": 73,
   "metadata": {},
   "outputs": [
    {
     "name": "stdout",
     "output_type": "stream",
     "text": [
      "Optimal Value function: \n",
      "[[0.463 0.24  0.458 0.091]\n",
      " [0.194 0.    0.097 0.   ]\n",
      " [0.385 0.799 0.668 0.   ]\n",
      " [0.    0.934 0.977 0.   ]]\n",
      "Final Policy: \n",
      "[['↓' '↑' '→' '↑']\n",
      " ['←' '←' '→' '←']\n",
      " ['↑' '↓' '←' '←']\n",
      " ['←' '→' '↓' '←']]\n"
     ]
    },
    {
     "data": {
      "image/png": "[encoded data removed]",
      "text/plain": [
       "<Figure size 288x288 with 1 Axes>"
      ]
     },
     "metadata": {
      "needs_background": "light"
     },
     "output_type": "display_data"
    }
   ],
   "source": [
    "optimal_policy3 = np.argmax(qtable, axis=1)\n",
    "optimal_value3 = np.amax(qtable, axis=1)\n",
    "\n",
    "print('Optimal Value function: ')\n",
    "print(np.round(optimal_value3, 3).reshape((4, 4)))\n",
    "plt.figure(figsize=(4,4))\n",
    "plt.imshow(optimal_value3.reshape((4, 4)), cmap='Oranges_r')\n",
    "\n",
    "print('Final Policy: ')\n",
    "policy3 = map_actions(optimal_policy3)\n",
    "\n",
    "print(np.array(policy3).reshape((4,4)))"
   ]
  },
  {
   "cell_type": "code",
   "execution_count": 71,
   "metadata": {},
   "outputs": [
    {
     "name": "stdout",
     "output_type": "stream",
     "text": [
      "Won Percentage =  46.800000000000004\n",
      "Lost Percentage =  53.2\n",
      "Average steps taken to win =  28.48931623931624\n",
      "Average reward in all episodes =  0.468\n",
      "Sequence of min steps taken:  ['↓', '↑', '→', '→', '←', '↓']\n",
      "Min steps to win:  6\n"
     ]
    }
   ],
   "source": [
    "wins3, loses3, steps3, sequence3 = get_score(env3, optimal_policy3, episodes=1000)\n",
    "print(\"Sequence of min steps taken: \", map_actions(sequence3))\n",
    "print(\"Min steps to win: \", len(sequence3))"
   ]
  },
  {
   "cell_type": "code",
   "execution_count": 72,
   "metadata": {},
   "outputs": [],
   "source": [
    "import pandas as pd\n",
    "pd.DataFrame(np.round(optimal_value3, 3).reshape((4,4))).to_csv('b.csv')"
   ]
  },
  {
   "cell_type": "code",
   "execution_count": null,
   "metadata": {},
   "outputs": [],
   "source": []
  }
 ],
 "metadata": {
  "kernelspec": {
   "display_name": "Python 3",
   "language": "python",
   "name": "python3"
  },
  "language_info": {
   "codemirror_mode": {
    "name": "ipython",
    "version": 3
   },
   "file_extension": ".py",
   "mimetype": "text/x-python",
   "name": "python",
   "nbconvert_exporter": "python",
   "pygments_lexer": "ipython3",
   "version": "3.7.7"
  }
 },
 "nbformat": 4,
 "nbformat_minor": 4
}
